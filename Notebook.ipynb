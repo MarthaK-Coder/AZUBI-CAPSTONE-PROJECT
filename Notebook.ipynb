{
 "cells": [
  {
   "cell_type": "markdown",
   "metadata": {},
   "source": [
    "# **Business Insights Amplification** "
   ]
  },
  {
   "cell_type": "markdown",
   "metadata": {},
   "source": [
    "## **1. Business Understanding**\n",
    "The project, Business Insights Amplification, aims to leverage the accumulated transactional data from the year 2019 to derive meaningful insights that empower our client to enhance sales, improve operational efficiency, and identify growth opportunities. The goal is to transform raw data into actionable intelligence, providing a comprehensive view of the business landscape.\n",
    "\n",
    "##### **Objective:**\n",
    "To design and deliver a robust end-to-end Business Intelligence solution for our client, GetINNOtized. Through meticulous analysis of the 2019 transactional data, the project aims to answer critical questions, uncover patterns, and deliver strategic recommendations.\n",
    "\n",
    "##### **Problem Statement:**\n",
    "The underutilization of 2019 transactional data poses a critical challenge for our client, hindering the identification of growth opportunities, understanding product performance, and optimizing sales strategies, thereby impeding overall sales and operational efficiency.\n",
    "\n",
    "**The stakeholders**, including GetINNOtized Leadership, Sales and Marketing Teams, Logistics Department, Product Development Team, and Finance Department, collectively play pivotal roles in leveraging actionable insights derived from the analysis of 2019 transactional data to drive business growth, optimize sales strategies, and enhance overall operational efficiency."
   ]
  },
  {
   "cell_type": "markdown",
   "metadata": {},
   "source": [
    "**<span style=\"font-size: Business Analystics Question to be answered:>;\">Business Analystics Question to be answered:></span>**\n",
    "\n",
    "1. How much money did we make this year? \n",
    "\n",
    "2. Can we identify any seasonality in the  sales? \n",
    "\n",
    "3. What are our best and worst-selling products? \n",
    "\n",
    "4. How do sales compare to previous months or weeks? \n",
    "\n",
    "5. Which cities are our products delivered to most? \n",
    "\n",
    "6. How do product categories compare in revenue generated and quantities  ordered? \n",
    "\n",
    "7. You are required to show additional details from your findings in your data."
   ]
  },
  {
   "cell_type": "markdown",
   "metadata": {},
   "source": [
    "## **2. Data Understanding**"
   ]
  },
  {
   "cell_type": "markdown",
   "metadata": {},
   "source": [
    "**I. Installations and Importations**"
   ]
  },
  {
   "cell_type": "code",
   "execution_count": 1,
   "metadata": {},
   "outputs": [
    {
     "name": "stdout",
     "output_type": "stream",
     "text": [
      "Requirement already satisfied: pyodbc in c:\\users\\lenovo\\appdata\\local\\programs\\python\\python311\\lib\\site-packages (4.0.39)Note: you may need to restart the kernel to use updated packages.\n",
      "\n"
     ]
    },
    {
     "name": "stderr",
     "output_type": "stream",
     "text": [
      "\n",
      "[notice] A new release of pip is available: 23.2.1 -> 23.3.2\n",
      "[notice] To update, run: python.exe -m pip install --upgrade pip\n"
     ]
    },
    {
     "name": "stdout",
     "output_type": "stream",
     "text": [
      "Requirement already satisfied: python-dotenv in c:\\users\\lenovo\\appdata\\local\\programs\\python\\python311\\lib\\site-packages (1.0.0)\n",
      "Note: you may need to restart the kernel to use updated packages.\n"
     ]
    },
    {
     "name": "stderr",
     "output_type": "stream",
     "text": [
      "\n",
      "[notice] A new release of pip is available: 23.2.1 -> 23.3.2\n",
      "[notice] To update, run: python.exe -m pip install --upgrade pip\n"
     ]
    }
   ],
   "source": [
    "#Install pyodbc and python-dotenv\n",
    "%pip install pyodbc  \n",
    "%pip install python-dotenv\n",
    "import warnings \n",
    "warnings.filterwarnings('ignore')"
   ]
  },
  {
   "cell_type": "code",
   "execution_count": 2,
   "metadata": {},
   "outputs": [],
   "source": [
    "#Importing the necessary Libraries.\n",
    "#import the dotenv_values function from the dotenv package\n",
    "import pyodbc                    \n",
    "from dotenv import dotenv_values \n",
    "\n",
    "#Dataloading and preparing libraries\n",
    "import pandas as pd\n",
    "import numpy as np\n",
    "import os\n",
    "import warnings \n",
    "import zipfile\n",
    "#Vizualiation Libraries\n",
    "import matplotlib.pyplot as plt\n",
    "import re\n",
    "import matplotlib.ticker as ticker\n",
    "import seaborn as sns"
   ]
  },
  {
   "cell_type": "markdown",
   "metadata": {},
   "source": [
    "**II. Loading Datasets**\n",
    "\n",
    "Loading datasets from the zipfile and database"
   ]
  },
  {
   "cell_type": "code",
   "execution_count": 13,
   "metadata": {},
   "outputs": [],
   "source": [
    "#lOADING JAN - JUNE 2019 from zipfile\n",
    "# Path to your zipfile\n",
    "zip_path = \"./datasets.zip\"\n",
    "# Initialize the ZipFile object\n",
    "with zipfile.ZipFile(zip_path, 'r') as zip_ref:\n",
    "\n",
    "    # Read the 'train.csv' file from the ZIP archive\n",
    "    with zip_ref.open('Sales_January_2019.csv') as jan:\n",
    "        jan_19 = pd.read_csv(jan)#index_col = 'date',parse_dates =True)\n",
    "\n",
    "    with zip_ref.open('Sales_February_2019.csv') as feb:\n",
    "        feb_19 = pd.read_csv(feb)#index_col = 'date',parse_dates =True)\n",
    "\n",
    "    with zip_ref.open('Sales_March_2019.csv') as march:\n",
    "        mar_19 = pd.read_csv(march)#index_col = 'date',parse_dates =True)\n",
    "    with zip_ref.open('Sales_April_2019.csv') as april:\n",
    "        april_19 = pd.read_csv(april)#index_col = 'date',parse_dates =True)\n",
    "\n",
    "    with zip_ref.open('Sales_May_2019.csv') as may:\n",
    "        may_19 = pd.read_csv(may)#index_col = 'date',parse_dates =True)\n",
    "\n",
    "    with zip_ref.open('Sales_June_2019.csv') as june:\n",
    "        june_19 = pd.read_csv(june)#index_col = 'date',parse_dates =True)"
   ]
  },
  {
   "cell_type": "code",
   "execution_count": 5,
   "metadata": {},
   "outputs": [],
   "source": [
    "#Load environment variables from .env file into a dictionary\n",
    "environment_variables = dotenv_values('.env')\n",
    "# Get the values for the credentials you set in the '.env' file\n",
    "database=environment_variables.get(\"DATABASE\")\n",
    "server=environment_variables.get(\"SERVER\")\n",
    "username=environment_variables.get(\"USERNAME\")\n",
    "password=environment_variables.get(\"PASSWORD\")\n",
    "\n",
    "\n",
    "connection_string=f\"DRIVER={{SQL Server}};SERVER={server};DATABASE={database};UID={username};PWD={password}\""
   ]
  },
  {
   "cell_type": "code",
   "execution_count": 6,
   "metadata": {},
   "outputs": [],
   "source": [
    "#connecting to the database\n",
    "connection=pyodbc.connect(connection_string)"
   ]
  },
  {
   "cell_type": "code",
   "execution_count": 24,
   "metadata": {},
   "outputs": [],
   "source": [
    "# SQL query to select data from multiple tables for the second half of 2019\n",
    "query = '''\n",
    "    SELECT * FROM dbo.Sales_July_2019\n",
    "    WHERE [Order_Date] >= '2019-07-01' AND [Order_Date] < '2019-08-01'\n",
    "    UNION ALL\n",
    "    SELECT * FROM dbo.Sales_August_2019\n",
    "    WHERE [Order_Date] >= '2019-08-01' AND [Order_Date] < '2019-09-01'\n",
    "    UNION ALL\n",
    "    SELECT * FROM dbo.Sales_September_2019\n",
    "    WHERE [Order_Date] >= '2019-09-01' AND [Order_Date] < '2019-10-01'\n",
    "    UNION ALL\n",
    "    SELECT * FROM dbo.Sales_October_2019\n",
    "    WHERE [Order_Date] >= '2019-10-01' AND [Order_Date] < '2019-11-01'\n",
    "    UNION ALL\n",
    "    SELECT * FROM dbo.Sales_November_2019\n",
    "    WHERE [Order_Date] >= '2019-11-01' AND [Order_Date] < '2019-12-01'\n",
    "    UNION ALL\n",
    "    SELECT * FROM dbo.Sales_December_2019\n",
    "    WHERE [Order_Date] >= '2019-12-01' AND [Order_Date] < '2020-01-01'\n",
    "'''\n",
    "second_half_2019=pd.read_sql(query,connection)"
   ]
  },
  {
   "cell_type": "code",
   "execution_count": 28,
   "metadata": {},
   "outputs": [
    {
     "data": {
      "text/html": [
       "<div>\n",
       "<style scoped>\n",
       "    .dataframe tbody tr th:only-of-type {\n",
       "        vertical-align: middle;\n",
       "    }\n",
       "\n",
       "    .dataframe tbody tr th {\n",
       "        vertical-align: top;\n",
       "    }\n",
       "\n",
       "    .dataframe thead th {\n",
       "        text-align: right;\n",
       "    }\n",
       "</style>\n",
       "<table border=\"1\" class=\"dataframe\">\n",
       "  <thead>\n",
       "    <tr style=\"text-align: right;\">\n",
       "      <th></th>\n",
       "      <th>Order_ID</th>\n",
       "      <th>Product</th>\n",
       "      <th>Quantity_Ordered</th>\n",
       "      <th>Price_Each</th>\n",
       "      <th>Order_Date</th>\n",
       "      <th>Purchase_Address</th>\n",
       "    </tr>\n",
       "  </thead>\n",
       "  <tbody>\n",
       "    <tr>\n",
       "      <th>0</th>\n",
       "      <td>222957</td>\n",
       "      <td>AAA Batteries (4-pack)</td>\n",
       "      <td>1</td>\n",
       "      <td>2.99</td>\n",
       "      <td>2019-07-19 10:11:00.0000000</td>\n",
       "      <td>143 5th St, Portland, OR 97035</td>\n",
       "    </tr>\n",
       "    <tr>\n",
       "      <th>1</th>\n",
       "      <td>222975</td>\n",
       "      <td>Wired Headphones</td>\n",
       "      <td>1</td>\n",
       "      <td>11.99</td>\n",
       "      <td>2019-07-19 16:15:00.0000000</td>\n",
       "      <td>541 Hickory St, Los Angeles, CA 90001</td>\n",
       "    </tr>\n",
       "    <tr>\n",
       "      <th>2</th>\n",
       "      <td>222990</td>\n",
       "      <td>AAA Batteries (4-pack)</td>\n",
       "      <td>2</td>\n",
       "      <td>2.99</td>\n",
       "      <td>2019-07-19 18:33:00.0000000</td>\n",
       "      <td>419 Jackson St, New York City, NY 10001</td>\n",
       "    </tr>\n",
       "    <tr>\n",
       "      <th>3</th>\n",
       "      <td>223000</td>\n",
       "      <td>AAA Batteries (4-pack)</td>\n",
       "      <td>1</td>\n",
       "      <td>2.99</td>\n",
       "      <td>2019-07-19 20:29:00.0000000</td>\n",
       "      <td>670 10th St, Atlanta, GA 30301</td>\n",
       "    </tr>\n",
       "    <tr>\n",
       "      <th>4</th>\n",
       "      <td>223040</td>\n",
       "      <td>Apple Airpods Headphones</td>\n",
       "      <td>1</td>\n",
       "      <td>150.00</td>\n",
       "      <td>2019-07-19 20:05:00.0000000</td>\n",
       "      <td>395 West St, Austin, TX 73301</td>\n",
       "    </tr>\n",
       "    <tr>\n",
       "      <th>5</th>\n",
       "      <td>223070</td>\n",
       "      <td>AAA Batteries (4-pack)</td>\n",
       "      <td>1</td>\n",
       "      <td>2.99</td>\n",
       "      <td>2019-07-19 08:29:00.0000000</td>\n",
       "      <td>172 Adams St, Boston, MA 02215</td>\n",
       "    </tr>\n",
       "    <tr>\n",
       "      <th>6</th>\n",
       "      <td>223124</td>\n",
       "      <td>USB-C Charging Cable</td>\n",
       "      <td>1</td>\n",
       "      <td>11.95</td>\n",
       "      <td>2019-07-19 19:28:00.0000000</td>\n",
       "      <td>593 Ridge St, San Francisco, CA 94016</td>\n",
       "    </tr>\n",
       "    <tr>\n",
       "      <th>7</th>\n",
       "      <td>223174</td>\n",
       "      <td>AAA Batteries (4-pack)</td>\n",
       "      <td>1</td>\n",
       "      <td>2.99</td>\n",
       "      <td>2019-07-19 18:44:00.0000000</td>\n",
       "      <td>532 5th St, Los Angeles, CA 90001</td>\n",
       "    </tr>\n",
       "    <tr>\n",
       "      <th>8</th>\n",
       "      <td>223241</td>\n",
       "      <td>USB-C Charging Cable</td>\n",
       "      <td>1</td>\n",
       "      <td>11.95</td>\n",
       "      <td>2019-07-19 20:33:00.0000000</td>\n",
       "      <td>651 Washington St, Boston, MA 02215</td>\n",
       "    </tr>\n",
       "    <tr>\n",
       "      <th>9</th>\n",
       "      <td>223254</td>\n",
       "      <td>Flatscreen TV</td>\n",
       "      <td>1</td>\n",
       "      <td>300.00</td>\n",
       "      <td>2019-07-19 20:36:00.0000000</td>\n",
       "      <td>144 Spruce St, Austin, TX 73301</td>\n",
       "    </tr>\n",
       "  </tbody>\n",
       "</table>\n",
       "</div>"
      ],
      "text/plain": [
       "   Order_ID                   Product  Quantity_Ordered  Price_Each  \\\n",
       "0    222957    AAA Batteries (4-pack)                 1        2.99   \n",
       "1    222975          Wired Headphones                 1       11.99   \n",
       "2    222990    AAA Batteries (4-pack)                 2        2.99   \n",
       "3    223000    AAA Batteries (4-pack)                 1        2.99   \n",
       "4    223040  Apple Airpods Headphones                 1      150.00   \n",
       "5    223070    AAA Batteries (4-pack)                 1        2.99   \n",
       "6    223124      USB-C Charging Cable                 1       11.95   \n",
       "7    223174    AAA Batteries (4-pack)                 1        2.99   \n",
       "8    223241      USB-C Charging Cable                 1       11.95   \n",
       "9    223254             Flatscreen TV                 1      300.00   \n",
       "\n",
       "                    Order_Date                         Purchase_Address  \n",
       "0  2019-07-19 10:11:00.0000000           143 5th St, Portland, OR 97035  \n",
       "1  2019-07-19 16:15:00.0000000    541 Hickory St, Los Angeles, CA 90001  \n",
       "2  2019-07-19 18:33:00.0000000  419 Jackson St, New York City, NY 10001  \n",
       "3  2019-07-19 20:29:00.0000000           670 10th St, Atlanta, GA 30301  \n",
       "4  2019-07-19 20:05:00.0000000            395 West St, Austin, TX 73301  \n",
       "5  2019-07-19 08:29:00.0000000           172 Adams St, Boston, MA 02215  \n",
       "6  2019-07-19 19:28:00.0000000    593 Ridge St, San Francisco, CA 94016  \n",
       "7  2019-07-19 18:44:00.0000000        532 5th St, Los Angeles, CA 90001  \n",
       "8  2019-07-19 20:33:00.0000000      651 Washington St, Boston, MA 02215  \n",
       "9  2019-07-19 20:36:00.0000000          144 Spruce St, Austin, TX 73301  "
      ]
     },
     "execution_count": 28,
     "metadata": {},
     "output_type": "execute_result"
    }
   ],
   "source": [
    "second_half_2019.head(10)"
   ]
  }
 ],
 "metadata": {
  "kernelspec": {
   "display_name": "Python 3",
   "language": "python",
   "name": "python3"
  },
  "language_info": {
   "codemirror_mode": {
    "name": "ipython",
    "version": 3
   },
   "file_extension": ".py",
   "mimetype": "text/x-python",
   "name": "python",
   "nbconvert_exporter": "python",
   "pygments_lexer": "ipython3",
   "version": "3.11.4"
  }
 },
 "nbformat": 4,
 "nbformat_minor": 2
}
