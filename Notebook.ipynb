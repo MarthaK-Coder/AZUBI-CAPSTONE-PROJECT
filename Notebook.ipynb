{
 "cells": [
  {
   "cell_type": "markdown",
   "metadata": {},
   "source": [
    "# **Business Insights Amplification** "
   ]
  },
  {
   "cell_type": "markdown",
   "metadata": {},
   "source": [
    "## **1. Business Understanding**\n",
    "The project, Business Insights Amplification, aims to leverage the accumulated transactional data from the year 2019 to derive meaningful insights that empower our client to enhance sales, improve operational efficiency, and identify growth opportunities. The goal is to transform raw data into actionable intelligence, providing a comprehensive view of the business landscape.\n",
    "\n",
    "##### **Objective:**\n",
    "To design and deliver a robust end-to-end Business Intelligence solution for our client, GetINNOtized. Through meticulous analysis of the 2019 transactional data, the project aims to answer critical questions, uncover patterns, and deliver strategic recommendations.\n",
    "\n",
    "##### **Problem Statement:**\n",
    "The underutilization of 2019 transactional data poses a critical challenge for our client, hindering the identification of growth opportunities, understanding product performance, and optimizing sales strategies, thereby impeding overall sales and operational efficiency.\n",
    "\n",
    "**The stakeholders**, including GetINNOtized Leadership, Sales and Marketing Teams, Logistics Department, Product Development Team, and Finance Department, collectively play pivotal roles in leveraging actionable insights derived from the analysis of 2019 transactional data to drive business growth, optimize sales strategies, and enhance overall operational efficiency."
   ]
  },
  {
   "cell_type": "markdown",
   "metadata": {},
   "source": [
    "**<span style=\"font-size: Business Analystics Question to be answered:>;\">Business Analystics Question to be answered:></span>**\n",
    "\n",
    "1. How much money did we make this year? \n",
    "\n",
    "2. Can we identify any seasonality in the  sales? \n",
    "\n",
    "3. What are our best and worst-selling products? \n",
    "\n",
    "4. How do sales compare to previous months or weeks? \n",
    "\n",
    "5. Which cities are our products delivered to most? \n",
    "\n",
    "6. How do product categories compare in revenue generated and quantities  ordered? \n",
    "\n",
    "7. You are required to show additional details from your findings in your data."
   ]
  },
  {
   "cell_type": "markdown",
   "metadata": {},
   "source": [
    "## **2. Data Understanding**"
   ]
  },
  {
   "cell_type": "markdown",
   "metadata": {},
   "source": [
    "**I. Installations and Importations**"
   ]
  },
  {
   "cell_type": "code",
   "execution_count": 1,
   "metadata": {},
   "outputs": [
    {
     "name": "stdout",
     "output_type": "stream",
     "text": [
      "Requirement already satisfied: pyodbc in c:\\users\\lenovo\\appdata\\local\\programs\\python\\python311\\lib\\site-packages (4.0.39)\n",
      "Note: you may need to restart the kernel to use updated packages.\n"
     ]
    },
    {
     "name": "stderr",
     "output_type": "stream",
     "text": [
      "\n",
      "[notice] A new release of pip is available: 23.2.1 -> 23.3.2\n",
      "[notice] To update, run: python.exe -m pip install --upgrade pip\n"
     ]
    },
    {
     "name": "stdout",
     "output_type": "stream",
     "text": [
      "Requirement already satisfied: python-dotenv in c:\\users\\lenovo\\appdata\\local\\programs\\python\\python311\\lib\\site-packages (1.0.0)\n",
      "Note: you may need to restart the kernel to use updated packages.\n"
     ]
    },
    {
     "name": "stderr",
     "output_type": "stream",
     "text": [
      "\n",
      "[notice] A new release of pip is available: 23.2.1 -> 23.3.2\n",
      "[notice] To update, run: python.exe -m pip install --upgrade pip\n"
     ]
    }
   ],
   "source": [
    "#Install pyodbc and python-dotenv\n",
    "%pip install pyodbc  \n",
    "%pip install python-dotenv\n",
    "import warnings \n",
    "warnings.filterwarnings('ignore')"
   ]
  },
  {
   "cell_type": "code",
   "execution_count": 38,
   "metadata": {},
   "outputs": [],
   "source": [
    "#Importing the necessary Libraries.\n",
    "#import the dotenv_values function from the dotenv package\n",
    "import pyodbc                    \n",
    "from dotenv import dotenv_values \n",
    "\n",
    "#Dataloading and preparing libraries\n",
    "import pandas as pd\n",
    "import numpy as np\n",
    "import os\n",
    "import warnings \n",
    "import zipfile\n",
    "import missingno as msno\n",
    "#Vizualiation Libraries\n",
    "import matplotlib.pyplot as plt\n",
    "import re\n",
    "import matplotlib.ticker as ticker\n",
    "import seaborn as sns"
   ]
  },
  {
   "cell_type": "markdown",
   "metadata": {},
   "source": [
    "**II. Loading Datasets**\n",
    "\n",
    "Loading datasets from the zipfile and database"
   ]
  },
  {
   "cell_type": "code",
   "execution_count": 3,
   "metadata": {},
   "outputs": [],
   "source": [
    "#lOADING JAN - JUNE 2019 from zipfile\n",
    "# Path to your zipfile\n",
    "zip_path = \"./datasets.zip\"\n",
    "# Initialize the ZipFile object\n",
    "with zipfile.ZipFile(zip_path, 'r') as zip_ref:\n",
    "\n",
    "    # Read the 'train.csv' file from the ZIP archive\n",
    "    with zip_ref.open('Sales_January_2019.csv') as jan:\n",
    "        jan_19 = pd.read_csv(jan)#index_col = 'date',parse_dates =True)\n",
    "\n",
    "    with zip_ref.open('Sales_February_2019.csv') as feb:\n",
    "        feb_19 = pd.read_csv(feb)#index_col = 'date',parse_dates =True)\n",
    "\n",
    "    with zip_ref.open('Sales_March_2019.csv') as march:\n",
    "        mar_19 = pd.read_csv(march)#index_col = 'date',parse_dates =True)\n",
    "    with zip_ref.open('Sales_April_2019.csv') as april:\n",
    "        april_19 = pd.read_csv(april)#index_col = 'date',parse_dates =True)\n",
    "\n",
    "    with zip_ref.open('Sales_May_2019.csv') as may:\n",
    "        may_19 = pd.read_csv(may)#index_col = 'date',parse_dates =True)\n",
    "\n",
    "    with zip_ref.open('Sales_June_2019.csv') as june:\n",
    "        june_19 = pd.read_csv(june)#index_col = 'date',parse_dates =True)"
   ]
  },
  {
   "cell_type": "code",
   "execution_count": 4,
   "metadata": {},
   "outputs": [],
   "source": [
    "#Load environment variables from .env file into a dictionary\n",
    "environment_variables = dotenv_values('.env')\n",
    "# Get the values for the credentials you set in the '.env' file\n",
    "database=environment_variables.get(\"DATABASE\")\n",
    "server=environment_variables.get(\"SERVER\")\n",
    "username=environment_variables.get(\"USERNAME\")\n",
    "password=environment_variables.get(\"PASSWORD\")\n",
    "\n",
    "\n",
    "connection_string=f\"DRIVER={{SQL Server}};SERVER={server};DATABASE={database};UID={username};PWD={password}\""
   ]
  },
  {
   "cell_type": "code",
   "execution_count": 5,
   "metadata": {},
   "outputs": [],
   "source": [
    "#connecting to the database\n",
    "connection=pyodbc.connect(connection_string)"
   ]
  },
  {
   "cell_type": "code",
   "execution_count": 6,
   "metadata": {},
   "outputs": [],
   "source": [
    "# SQL query to select data from multiple tables for the second half of 2019\n",
    "query = '''\n",
    "    SELECT * FROM dbo.Sales_July_2019\n",
    "    WHERE [Order_Date] >= '2019-07-01' AND [Order_Date] < '2019-08-01'\n",
    "    UNION ALL\n",
    "    SELECT * FROM dbo.Sales_August_2019\n",
    "    WHERE [Order_Date] >= '2019-08-01' AND [Order_Date] < '2019-09-01'\n",
    "    UNION ALL\n",
    "    SELECT * FROM dbo.Sales_September_2019\n",
    "    WHERE [Order_Date] >= '2019-09-01' AND [Order_Date] < '2019-10-01'\n",
    "    UNION ALL\n",
    "    SELECT * FROM dbo.Sales_October_2019\n",
    "    WHERE [Order_Date] >= '2019-10-01' AND [Order_Date] < '2019-11-01'\n",
    "    UNION ALL\n",
    "    SELECT * FROM dbo.Sales_November_2019\n",
    "    WHERE [Order_Date] >= '2019-11-01' AND [Order_Date] < '2019-12-01'\n",
    "    UNION ALL\n",
    "    SELECT * FROM dbo.Sales_December_2019\n",
    "    WHERE [Order_Date] >= '2019-12-01' AND [Order_Date] < '2020-01-01'\n",
    "'''\n",
    "second_half_2019=pd.read_sql(query,connection)"
   ]
  },
  {
   "cell_type": "code",
   "execution_count": 7,
   "metadata": {},
   "outputs": [
    {
     "data": {
      "text/html": [
       "<div>\n",
       "<style scoped>\n",
       "    .dataframe tbody tr th:only-of-type {\n",
       "        vertical-align: middle;\n",
       "    }\n",
       "\n",
       "    .dataframe tbody tr th {\n",
       "        vertical-align: top;\n",
       "    }\n",
       "\n",
       "    .dataframe thead th {\n",
       "        text-align: right;\n",
       "    }\n",
       "</style>\n",
       "<table border=\"1\" class=\"dataframe\">\n",
       "  <thead>\n",
       "    <tr style=\"text-align: right;\">\n",
       "      <th></th>\n",
       "      <th>Order_ID</th>\n",
       "      <th>Product</th>\n",
       "      <th>Quantity_Ordered</th>\n",
       "      <th>Price_Each</th>\n",
       "      <th>Order_Date</th>\n",
       "      <th>Purchase_Address</th>\n",
       "    </tr>\n",
       "  </thead>\n",
       "  <tbody>\n",
       "    <tr>\n",
       "      <th>0</th>\n",
       "      <td>222957</td>\n",
       "      <td>AAA Batteries (4-pack)</td>\n",
       "      <td>1</td>\n",
       "      <td>2.99</td>\n",
       "      <td>2019-07-19 10:11:00.0000000</td>\n",
       "      <td>143 5th St, Portland, OR 97035</td>\n",
       "    </tr>\n",
       "    <tr>\n",
       "      <th>1</th>\n",
       "      <td>222975</td>\n",
       "      <td>Wired Headphones</td>\n",
       "      <td>1</td>\n",
       "      <td>11.99</td>\n",
       "      <td>2019-07-19 16:15:00.0000000</td>\n",
       "      <td>541 Hickory St, Los Angeles, CA 90001</td>\n",
       "    </tr>\n",
       "    <tr>\n",
       "      <th>2</th>\n",
       "      <td>222990</td>\n",
       "      <td>AAA Batteries (4-pack)</td>\n",
       "      <td>2</td>\n",
       "      <td>2.99</td>\n",
       "      <td>2019-07-19 18:33:00.0000000</td>\n",
       "      <td>419 Jackson St, New York City, NY 10001</td>\n",
       "    </tr>\n",
       "    <tr>\n",
       "      <th>3</th>\n",
       "      <td>223000</td>\n",
       "      <td>AAA Batteries (4-pack)</td>\n",
       "      <td>1</td>\n",
       "      <td>2.99</td>\n",
       "      <td>2019-07-19 20:29:00.0000000</td>\n",
       "      <td>670 10th St, Atlanta, GA 30301</td>\n",
       "    </tr>\n",
       "    <tr>\n",
       "      <th>4</th>\n",
       "      <td>223040</td>\n",
       "      <td>Apple Airpods Headphones</td>\n",
       "      <td>1</td>\n",
       "      <td>150.00</td>\n",
       "      <td>2019-07-19 20:05:00.0000000</td>\n",
       "      <td>395 West St, Austin, TX 73301</td>\n",
       "    </tr>\n",
       "    <tr>\n",
       "      <th>5</th>\n",
       "      <td>223070</td>\n",
       "      <td>AAA Batteries (4-pack)</td>\n",
       "      <td>1</td>\n",
       "      <td>2.99</td>\n",
       "      <td>2019-07-19 08:29:00.0000000</td>\n",
       "      <td>172 Adams St, Boston, MA 02215</td>\n",
       "    </tr>\n",
       "    <tr>\n",
       "      <th>6</th>\n",
       "      <td>223124</td>\n",
       "      <td>USB-C Charging Cable</td>\n",
       "      <td>1</td>\n",
       "      <td>11.95</td>\n",
       "      <td>2019-07-19 19:28:00.0000000</td>\n",
       "      <td>593 Ridge St, San Francisco, CA 94016</td>\n",
       "    </tr>\n",
       "    <tr>\n",
       "      <th>7</th>\n",
       "      <td>223174</td>\n",
       "      <td>AAA Batteries (4-pack)</td>\n",
       "      <td>1</td>\n",
       "      <td>2.99</td>\n",
       "      <td>2019-07-19 18:44:00.0000000</td>\n",
       "      <td>532 5th St, Los Angeles, CA 90001</td>\n",
       "    </tr>\n",
       "    <tr>\n",
       "      <th>8</th>\n",
       "      <td>223241</td>\n",
       "      <td>USB-C Charging Cable</td>\n",
       "      <td>1</td>\n",
       "      <td>11.95</td>\n",
       "      <td>2019-07-19 20:33:00.0000000</td>\n",
       "      <td>651 Washington St, Boston, MA 02215</td>\n",
       "    </tr>\n",
       "    <tr>\n",
       "      <th>9</th>\n",
       "      <td>223254</td>\n",
       "      <td>Flatscreen TV</td>\n",
       "      <td>1</td>\n",
       "      <td>300.00</td>\n",
       "      <td>2019-07-19 20:36:00.0000000</td>\n",
       "      <td>144 Spruce St, Austin, TX 73301</td>\n",
       "    </tr>\n",
       "  </tbody>\n",
       "</table>\n",
       "</div>"
      ],
      "text/plain": [
       "   Order_ID                   Product  Quantity_Ordered  Price_Each  \\\n",
       "0    222957    AAA Batteries (4-pack)                 1        2.99   \n",
       "1    222975          Wired Headphones                 1       11.99   \n",
       "2    222990    AAA Batteries (4-pack)                 2        2.99   \n",
       "3    223000    AAA Batteries (4-pack)                 1        2.99   \n",
       "4    223040  Apple Airpods Headphones                 1      150.00   \n",
       "5    223070    AAA Batteries (4-pack)                 1        2.99   \n",
       "6    223124      USB-C Charging Cable                 1       11.95   \n",
       "7    223174    AAA Batteries (4-pack)                 1        2.99   \n",
       "8    223241      USB-C Charging Cable                 1       11.95   \n",
       "9    223254             Flatscreen TV                 1      300.00   \n",
       "\n",
       "                    Order_Date                         Purchase_Address  \n",
       "0  2019-07-19 10:11:00.0000000           143 5th St, Portland, OR 97035  \n",
       "1  2019-07-19 16:15:00.0000000    541 Hickory St, Los Angeles, CA 90001  \n",
       "2  2019-07-19 18:33:00.0000000  419 Jackson St, New York City, NY 10001  \n",
       "3  2019-07-19 20:29:00.0000000           670 10th St, Atlanta, GA 30301  \n",
       "4  2019-07-19 20:05:00.0000000            395 West St, Austin, TX 73301  \n",
       "5  2019-07-19 08:29:00.0000000           172 Adams St, Boston, MA 02215  \n",
       "6  2019-07-19 19:28:00.0000000    593 Ridge St, San Francisco, CA 94016  \n",
       "7  2019-07-19 18:44:00.0000000        532 5th St, Los Angeles, CA 90001  \n",
       "8  2019-07-19 20:33:00.0000000      651 Washington St, Boston, MA 02215  \n",
       "9  2019-07-19 20:36:00.0000000          144 Spruce St, Austin, TX 73301  "
      ]
     },
     "execution_count": 7,
     "metadata": {},
     "output_type": "execute_result"
    }
   ],
   "source": [
    "second_half_2019.head(10)"
   ]
  },
  {
   "cell_type": "code",
   "execution_count": 9,
   "metadata": {},
   "outputs": [],
   "source": [
    "#Saving the second half as CSV file\n",
    "#second_half_2019.to_csv(r'C:/second_half_2019.csv', index=False)\n"
   ]
  },
  {
   "cell_type": "code",
   "execution_count": 44,
   "metadata": {},
   "outputs": [
    {
     "data": {
      "text/html": [
       "<div>\n",
       "<style scoped>\n",
       "    .dataframe tbody tr th:only-of-type {\n",
       "        vertical-align: middle;\n",
       "    }\n",
       "\n",
       "    .dataframe tbody tr th {\n",
       "        vertical-align: top;\n",
       "    }\n",
       "\n",
       "    .dataframe thead th {\n",
       "        text-align: right;\n",
       "    }\n",
       "</style>\n",
       "<table border=\"1\" class=\"dataframe\">\n",
       "  <thead>\n",
       "    <tr style=\"text-align: right;\">\n",
       "      <th></th>\n",
       "      <th>Order ID</th>\n",
       "      <th>Product</th>\n",
       "      <th>Quantity Ordered</th>\n",
       "      <th>Price Each</th>\n",
       "      <th>Order Date</th>\n",
       "      <th>Purchase Address</th>\n",
       "    </tr>\n",
       "  </thead>\n",
       "  <tbody>\n",
       "    <tr>\n",
       "      <th>85620</th>\n",
       "      <td>222905</td>\n",
       "      <td>AAA Batteries (4-pack)</td>\n",
       "      <td>1</td>\n",
       "      <td>2.99</td>\n",
       "      <td>06/07/19 19:02</td>\n",
       "      <td>795 Pine St, Boston, MA 02215</td>\n",
       "    </tr>\n",
       "    <tr>\n",
       "      <th>85621</th>\n",
       "      <td>222906</td>\n",
       "      <td>27in FHD Monitor</td>\n",
       "      <td>1</td>\n",
       "      <td>149.99</td>\n",
       "      <td>06/01/19 19:29</td>\n",
       "      <td>495 North St, New York City, NY 10001</td>\n",
       "    </tr>\n",
       "    <tr>\n",
       "      <th>85622</th>\n",
       "      <td>222907</td>\n",
       "      <td>USB-C Charging Cable</td>\n",
       "      <td>1</td>\n",
       "      <td>11.95</td>\n",
       "      <td>06/22/19 18:57</td>\n",
       "      <td>319 Ridge St, San Francisco, CA 94016</td>\n",
       "    </tr>\n",
       "    <tr>\n",
       "      <th>85623</th>\n",
       "      <td>222908</td>\n",
       "      <td>USB-C Charging Cable</td>\n",
       "      <td>1</td>\n",
       "      <td>11.95</td>\n",
       "      <td>06/26/19 18:35</td>\n",
       "      <td>916 Main St, San Francisco, CA 94016</td>\n",
       "    </tr>\n",
       "    <tr>\n",
       "      <th>85624</th>\n",
       "      <td>222909</td>\n",
       "      <td>AAA Batteries (4-pack)</td>\n",
       "      <td>1</td>\n",
       "      <td>2.99</td>\n",
       "      <td>06/25/19 14:33</td>\n",
       "      <td>209 11th St, Atlanta, GA 30301</td>\n",
       "    </tr>\n",
       "  </tbody>\n",
       "</table>\n",
       "</div>"
      ],
      "text/plain": [
       "      Order ID                 Product Quantity Ordered Price Each  \\\n",
       "85620   222905  AAA Batteries (4-pack)                1       2.99   \n",
       "85621   222906        27in FHD Monitor                1     149.99   \n",
       "85622   222907    USB-C Charging Cable                1      11.95   \n",
       "85623   222908    USB-C Charging Cable                1      11.95   \n",
       "85624   222909  AAA Batteries (4-pack)                1       2.99   \n",
       "\n",
       "           Order Date                       Purchase Address  \n",
       "85620  06/07/19 19:02          795 Pine St, Boston, MA 02215  \n",
       "85621  06/01/19 19:29  495 North St, New York City, NY 10001  \n",
       "85622  06/22/19 18:57  319 Ridge St, San Francisco, CA 94016  \n",
       "85623  06/26/19 18:35   916 Main St, San Francisco, CA 94016  \n",
       "85624  06/25/19 14:33         209 11th St, Atlanta, GA 30301  "
      ]
     },
     "execution_count": 44,
     "metadata": {},
     "output_type": "execute_result"
    }
   ],
   "source": [
    "#Merging the first half of 2019 dataframes.\n",
    "months_sales = [jan_19, feb_19, mar_19, april_19, may_19, june_19]\n",
    "\n",
    "# Concatenate DataFrames vertically (along rows)\n",
    "first_half_2019 = pd.concat(months_sales, ignore_index=True)\n",
    "first_half_2019.tail(5)\n"
   ]
  },
  {
   "cell_type": "code",
   "execution_count": 46,
   "metadata": {},
   "outputs": [
    {
     "name": "stdout",
     "output_type": "stream",
     "text": [
      "3372\n"
     ]
    }
   ],
   "source": [
    "# Check the number of rows in the DataFrame\n",
    "num_row = second_half_2019.shape[0]\n",
    "print(num_row)"
   ]
  },
  {
   "cell_type": "markdown",
   "metadata": {},
   "source": [
    "##### **III. Data Cleaning**\n",
    "Here we are going to clean our datasets stored as first half and second half of 2019 dataframes"
   ]
  },
  {
   "cell_type": "markdown",
   "metadata": {},
   "source": [
    "*merging the datasets*"
   ]
  },
  {
   "cell_type": "code",
   "execution_count": 30,
   "metadata": {},
   "outputs": [
    {
     "data": {
      "text/html": [
       "<div>\n",
       "<style scoped>\n",
       "    .dataframe tbody tr th:only-of-type {\n",
       "        vertical-align: middle;\n",
       "    }\n",
       "\n",
       "    .dataframe tbody tr th {\n",
       "        vertical-align: top;\n",
       "    }\n",
       "\n",
       "    .dataframe thead th {\n",
       "        text-align: right;\n",
       "    }\n",
       "</style>\n",
       "<table border=\"1\" class=\"dataframe\">\n",
       "  <thead>\n",
       "    <tr style=\"text-align: right;\">\n",
       "      <th></th>\n",
       "      <th>Order ID</th>\n",
       "      <th>Product</th>\n",
       "      <th>Quantity Ordered</th>\n",
       "      <th>Price Each</th>\n",
       "      <th>Order Date</th>\n",
       "      <th>Purchase Address</th>\n",
       "    </tr>\n",
       "  </thead>\n",
       "  <tbody>\n",
       "    <tr>\n",
       "      <th>0</th>\n",
       "      <td>141234</td>\n",
       "      <td>iPhone</td>\n",
       "      <td>1</td>\n",
       "      <td>700</td>\n",
       "      <td>01/22/19 21:25</td>\n",
       "      <td>944 Walnut St, Boston, MA 02215</td>\n",
       "    </tr>\n",
       "    <tr>\n",
       "      <th>1</th>\n",
       "      <td>141235</td>\n",
       "      <td>Lightning Charging Cable</td>\n",
       "      <td>1</td>\n",
       "      <td>14.95</td>\n",
       "      <td>01/28/19 14:15</td>\n",
       "      <td>185 Maple St, Portland, OR 97035</td>\n",
       "    </tr>\n",
       "    <tr>\n",
       "      <th>2</th>\n",
       "      <td>141236</td>\n",
       "      <td>Wired Headphones</td>\n",
       "      <td>2</td>\n",
       "      <td>11.99</td>\n",
       "      <td>01/17/19 13:33</td>\n",
       "      <td>538 Adams St, San Francisco, CA 94016</td>\n",
       "    </tr>\n",
       "    <tr>\n",
       "      <th>3</th>\n",
       "      <td>141237</td>\n",
       "      <td>27in FHD Monitor</td>\n",
       "      <td>1</td>\n",
       "      <td>149.99</td>\n",
       "      <td>01/05/19 20:33</td>\n",
       "      <td>738 10th St, Los Angeles, CA 90001</td>\n",
       "    </tr>\n",
       "    <tr>\n",
       "      <th>4</th>\n",
       "      <td>141238</td>\n",
       "      <td>Wired Headphones</td>\n",
       "      <td>1</td>\n",
       "      <td>11.99</td>\n",
       "      <td>01/25/19 11:59</td>\n",
       "      <td>387 10th St, Austin, TX 73301</td>\n",
       "    </tr>\n",
       "  </tbody>\n",
       "</table>\n",
       "</div>"
      ],
      "text/plain": [
       "  Order ID                   Product Quantity Ordered Price Each  \\\n",
       "0   141234                    iPhone                1        700   \n",
       "1   141235  Lightning Charging Cable                1      14.95   \n",
       "2   141236          Wired Headphones                2      11.99   \n",
       "3   141237          27in FHD Monitor                1     149.99   \n",
       "4   141238          Wired Headphones                1      11.99   \n",
       "\n",
       "       Order Date                       Purchase Address  \n",
       "0  01/22/19 21:25        944 Walnut St, Boston, MA 02215  \n",
       "1  01/28/19 14:15       185 Maple St, Portland, OR 97035  \n",
       "2  01/17/19 13:33  538 Adams St, San Francisco, CA 94016  \n",
       "3  01/05/19 20:33     738 10th St, Los Angeles, CA 90001  \n",
       "4  01/25/19 11:59          387 10th St, Austin, TX 73301  "
      ]
     },
     "execution_count": 30,
     "metadata": {},
     "output_type": "execute_result"
    }
   ],
   "source": [
    "#1. Rename Column names Second half\n",
    "second_half_2019.rename(columns={'Order_ID': 'Order ID', 'Product': 'Product', 'Quantity_Ordered': 'Quantity Ordered', 'Price_Each': 'Price Each','Order_Date':'Order Date','Purchase_Address':'Purchase Address'}, inplace=True)\n",
    "\n",
    "#2.Merge datatframes\n",
    "sales_2019 = pd.concat([first_half_2019, second_half_2019], ignore_index=True)\n",
    "sales_2019.head(5)"
   ]
  },
  {
   "cell_type": "markdown",
   "metadata": {},
   "source": [
    "*Checking for missing values*"
   ]
  },
  {
   "cell_type": "code",
   "execution_count": 39,
   "metadata": {},
   "outputs": [
    {
     "data": {
      "image/png": "[encoded data removed]",
      "text/plain": [
       "<Figure size 2500x1000 with 2 Axes>"
      ]
     },
     "metadata": {},
     "output_type": "display_data"
    }
   ],
   "source": [
    "msno.matrix(sales_2019)\n",
    "\n",
    "# Set plot title\n",
    "plt.title('Missing Values Matrix in sales_2019')\n",
    "\n",
    "# Show the plot\n",
    "plt.show()"
   ]
  },
  {
   "cell_type": "code",
   "execution_count": 26,
   "metadata": {},
   "outputs": [
    {
     "data": {
      "text/plain": [
       "Order ID            245\n",
       "Product             245\n",
       "Quantity Ordered    245\n",
       "Price Each          245\n",
       "Order Date          245\n",
       "Purchase Address    245\n",
       "dtype: int64"
      ]
     },
     "execution_count": 26,
     "metadata": {},
     "output_type": "execute_result"
    }
   ],
   "source": [
    "sales_2019.isna().sum()"
   ]
  },
  {
   "cell_type": "code",
   "execution_count": 32,
   "metadata": {},
   "outputs": [
    {
     "name": "stdout",
     "output_type": "stream",
     "text": [
      "88997\n"
     ]
    }
   ],
   "source": [
    "# Check the number of rows in the DataFrame\n",
    "num_rows = sales_2019.shape[0]\n",
    "print(num_rows)"
   ]
  },
  {
   "cell_type": "code",
   "execution_count": 40,
   "metadata": {},
   "outputs": [
    {
     "data": {
      "text/plain": [
       "Order ID            0\n",
       "Product             0\n",
       "Quantity Ordered    0\n",
       "Price Each          0\n",
       "Order Date          0\n",
       "Purchase Address    0\n",
       "dtype: int64"
      ]
     },
     "execution_count": 40,
     "metadata": {},
     "output_type": "execute_result"
    }
   ],
   "source": [
    "#drop null values\n",
    "sales_2019_cleaned = sales_2019.dropna()\n",
    "#recheck null values\n",
    "sales_2019_cleaned.isna().sum()"
   ]
  },
  {
   "cell_type": "markdown",
   "metadata": {},
   "source": [
    "*checking for Duplicates*"
   ]
  },
  {
   "cell_type": "code",
   "execution_count": 41,
   "metadata": {},
   "outputs": [
    {
     "name": "stdout",
     "output_type": "stream",
     "text": [
      "273\n"
     ]
    }
   ],
   "source": [
    "duplicates =sales_2019_cleaned.duplicated()\n",
    "count_duplicated = duplicates.sum()\n",
    "print(count_duplicated)"
   ]
  },
  {
   "cell_type": "code",
   "execution_count": 42,
   "metadata": {},
   "outputs": [
    {
     "data": {
      "text/html": [
       "<div>\n",
       "<style scoped>\n",
       "    .dataframe tbody tr th:only-of-type {\n",
       "        vertical-align: middle;\n",
       "    }\n",
       "\n",
       "    .dataframe tbody tr th {\n",
       "        vertical-align: top;\n",
       "    }\n",
       "\n",
       "    .dataframe thead th {\n",
       "        text-align: right;\n",
       "    }\n",
       "</style>\n",
       "<table border=\"1\" class=\"dataframe\">\n",
       "  <thead>\n",
       "    <tr style=\"text-align: right;\">\n",
       "      <th></th>\n",
       "      <th>Order ID</th>\n",
       "      <th>Product</th>\n",
       "      <th>Quantity Ordered</th>\n",
       "      <th>Price Each</th>\n",
       "      <th>Order Date</th>\n",
       "      <th>Purchase Address</th>\n",
       "    </tr>\n",
       "  </thead>\n",
       "  <tbody>\n",
       "    <tr>\n",
       "      <th>875</th>\n",
       "      <td>142071</td>\n",
       "      <td>AA Batteries (4-pack)</td>\n",
       "      <td>1</td>\n",
       "      <td>3.84</td>\n",
       "      <td>01/17/19 23:02</td>\n",
       "      <td>131 2nd St, Boston, MA 02215</td>\n",
       "    </tr>\n",
       "    <tr>\n",
       "      <th>1102</th>\n",
       "      <td>Order ID</td>\n",
       "      <td>Product</td>\n",
       "      <td>Quantity Ordered</td>\n",
       "      <td>Price Each</td>\n",
       "      <td>Order Date</td>\n",
       "      <td>Purchase Address</td>\n",
       "    </tr>\n",
       "    <tr>\n",
       "      <th>1194</th>\n",
       "      <td>Order ID</td>\n",
       "      <td>Product</td>\n",
       "      <td>Quantity Ordered</td>\n",
       "      <td>Price Each</td>\n",
       "      <td>Order Date</td>\n",
       "      <td>Purchase Address</td>\n",
       "    </tr>\n",
       "    <tr>\n",
       "      <th>1897</th>\n",
       "      <td>Order ID</td>\n",
       "      <td>Product</td>\n",
       "      <td>Quantity Ordered</td>\n",
       "      <td>Price Each</td>\n",
       "      <td>Order Date</td>\n",
       "      <td>Purchase Address</td>\n",
       "    </tr>\n",
       "    <tr>\n",
       "      <th>2463</th>\n",
       "      <td>Order ID</td>\n",
       "      <td>Product</td>\n",
       "      <td>Quantity Ordered</td>\n",
       "      <td>Price Each</td>\n",
       "      <td>Order Date</td>\n",
       "      <td>Purchase Address</td>\n",
       "    </tr>\n",
       "    <tr>\n",
       "      <th>3115</th>\n",
       "      <td>Order ID</td>\n",
       "      <td>Product</td>\n",
       "      <td>Quantity Ordered</td>\n",
       "      <td>Price Each</td>\n",
       "      <td>Order Date</td>\n",
       "      <td>Purchase Address</td>\n",
       "    </tr>\n",
       "    <tr>\n",
       "      <th>3247</th>\n",
       "      <td>Order ID</td>\n",
       "      <td>Product</td>\n",
       "      <td>Quantity Ordered</td>\n",
       "      <td>Price Each</td>\n",
       "      <td>Order Date</td>\n",
       "      <td>Purchase Address</td>\n",
       "    </tr>\n",
       "    <tr>\n",
       "      <th>3612</th>\n",
       "      <td>Order ID</td>\n",
       "      <td>Product</td>\n",
       "      <td>Quantity Ordered</td>\n",
       "      <td>Price Each</td>\n",
       "      <td>Order Date</td>\n",
       "      <td>Purchase Address</td>\n",
       "    </tr>\n",
       "    <tr>\n",
       "      <th>3623</th>\n",
       "      <td>Order ID</td>\n",
       "      <td>Product</td>\n",
       "      <td>Quantity Ordered</td>\n",
       "      <td>Price Each</td>\n",
       "      <td>Order Date</td>\n",
       "      <td>Purchase Address</td>\n",
       "    </tr>\n",
       "    <tr>\n",
       "      <th>4126</th>\n",
       "      <td>145143</td>\n",
       "      <td>Lightning Charging Cable</td>\n",
       "      <td>1</td>\n",
       "      <td>14.95</td>\n",
       "      <td>01/06/19 03:01</td>\n",
       "      <td>182 Jefferson St, San Francisco, CA 94016</td>\n",
       "    </tr>\n",
       "  </tbody>\n",
       "</table>\n",
       "</div>"
      ],
      "text/plain": [
       "      Order ID                   Product  Quantity Ordered  Price Each  \\\n",
       "875     142071     AA Batteries (4-pack)                 1        3.84   \n",
       "1102  Order ID                   Product  Quantity Ordered  Price Each   \n",
       "1194  Order ID                   Product  Quantity Ordered  Price Each   \n",
       "1897  Order ID                   Product  Quantity Ordered  Price Each   \n",
       "2463  Order ID                   Product  Quantity Ordered  Price Each   \n",
       "3115  Order ID                   Product  Quantity Ordered  Price Each   \n",
       "3247  Order ID                   Product  Quantity Ordered  Price Each   \n",
       "3612  Order ID                   Product  Quantity Ordered  Price Each   \n",
       "3623  Order ID                   Product  Quantity Ordered  Price Each   \n",
       "4126    145143  Lightning Charging Cable                 1       14.95   \n",
       "\n",
       "          Order Date                           Purchase Address  \n",
       "875   01/17/19 23:02               131 2nd St, Boston, MA 02215  \n",
       "1102      Order Date                           Purchase Address  \n",
       "1194      Order Date                           Purchase Address  \n",
       "1897      Order Date                           Purchase Address  \n",
       "2463      Order Date                           Purchase Address  \n",
       "3115      Order Date                           Purchase Address  \n",
       "3247      Order Date                           Purchase Address  \n",
       "3612      Order Date                           Purchase Address  \n",
       "3623      Order Date                           Purchase Address  \n",
       "4126  01/06/19 03:01  182 Jefferson St, San Francisco, CA 94016  "
      ]
     },
     "execution_count": 42,
     "metadata": {},
     "output_type": "execute_result"
    }
   ],
   "source": [
    "#rechecking duplicated data \n",
    "duplicated_rows = sales_2019_cleaned[duplicates]\n",
    "duplicated_rows.head(10)"
   ]
  },
  {
   "cell_type": "code",
   "execution_count": 43,
   "metadata": {},
   "outputs": [
    {
     "data": {
      "text/plain": [
       "0"
      ]
     },
     "execution_count": 43,
     "metadata": {},
     "output_type": "execute_result"
    }
   ],
   "source": [
    "#removing duplicated rows\n",
    "# Assuming sales_2019_cleaned is your DataFrame without missing values\n",
    "sales_2019_df = sales_2019_cleaned.drop_duplicates()\n",
    "\n",
    "# Display the DataFrame without duplicated rows\n",
    "sales_2019_df.duplicated().sum()"
   ]
  },
  {
   "cell_type": "markdown",
   "metadata": {},
   "source": [
    "*checking for dataset datatypes*"
   ]
  },
  {
   "cell_type": "code",
   "execution_count": 49,
   "metadata": {},
   "outputs": [
    {
     "data": {
      "text/plain": [
       "Order ID            object\n",
       "Product             object\n",
       "Quantity Ordered    object\n",
       "Price Each          object\n",
       "Order Date          object\n",
       "Purchase Address    object\n",
       "dtype: object"
      ]
     },
     "execution_count": 49,
     "metadata": {},
     "output_type": "execute_result"
    }
   ],
   "source": [
    "sales_2019_df.dtypes"
   ]
  },
  {
   "cell_type": "code",
   "execution_count": 55,
   "metadata": {},
   "outputs": [
    {
     "data": {
      "text/plain": [
       "(array(['700', '14.95', '11.99', '149.99', '2.99', '389.99', '11.95',\n",
       "        '99.99', '150', '1700', '300', '400', '3.84', '600', '109.99',\n",
       "        '379.99', '999.99', '600.0', 'Price Each', '700.0', '150.0',\n",
       "        '300.0', '1700.0', 2.990000009536743, 11.989999771118164, 150.0,\n",
       "        11.949999809265137, 300.0, 389.989990234375, 379.989990234375,\n",
       "        149.99000549316406, 3.8399999141693115, 109.98999786376953,\n",
       "        99.98999786376953, 14.949999809265137, 600.0, 999.989990234375,\n",
       "        700.0, 1700.0, 400.0], dtype=object),\n",
       " array(['01/22/19 21:25', '01/28/19 14:15', '01/17/19 13:33', ...,\n",
       "        '2019-12-19 07:48:00.0000000', '2019-12-19 00:18:00.0000000',\n",
       "        '2019-12-19 21:09:00.0000000'], dtype=object),\n",
       " array(['iPhone', 'Lightning Charging Cable', 'Wired Headphones',\n",
       "        '27in FHD Monitor', 'AAA Batteries (4-pack)',\n",
       "        '27in 4K Gaming Monitor', 'USB-C Charging Cable',\n",
       "        'Bose SoundSport Headphones', 'Apple Airpods Headphones',\n",
       "        'Macbook Pro Laptop', 'Flatscreen TV', 'Vareebadd Phone',\n",
       "        'AA Batteries (4-pack)', 'Google Phone', '20in Monitor',\n",
       "        '34in Ultrawide Monitor', 'ThinkPad Laptop', 'LG Dryer',\n",
       "        'LG Washing Machine', 'Product'], dtype=object),\n",
       " array(['1', '2', '3', '5', '4', '7', 'Quantity Ordered', '6', '9', 1, 2,\n",
       "        3, 4, 5, 6, 7], dtype=object),\n",
       " array(['141234', '141235', '141236', ..., 319579, 319619, 319636],\n",
       "       dtype=object),\n",
       " array(['944 Walnut St, Boston, MA 02215',\n",
       "        '185 Maple St, Portland, OR 97035',\n",
       "        '538 Adams St, San Francisco, CA 94016', ...,\n",
       "        '285 4th St, Los Angeles, CA 90001',\n",
       "        '908 2nd St, Los Angeles, CA 90001',\n",
       "        '829 6th St, Boston, MA 02215'], dtype=object),\n",
       " array(['01/22/19 21:25', '01/28/19 14:15', '01/17/19 13:33', ...,\n",
       "        '2019-12-19 07:48:00.0000000', '2019-12-19 00:18:00.0000000',\n",
       "        '2019-12-19 21:09:00.0000000'], dtype=object))"
      ]
     },
     "execution_count": 55,
     "metadata": {},
     "output_type": "execute_result"
    }
   ],
   "source": [
    "sales_2019_df['Price Each'].unique(), sales_2019_df['Order Date'].unique(),sales_2019_df['Product'].unique(),sales_2019_df['Quantity Ordered'].unique(),sales_2019_df['Order ID'].unique(),sales_2019_df['Purchase Address'].unique(),sales_2019_df['Order Date'].unique()"
   ]
  },
  {
   "cell_type": "code",
   "execution_count": 56,
   "metadata": {},
   "outputs": [
    {
     "name": "stdout",
     "output_type": "stream",
     "text": [
      "Rows with Column Names:\n",
      "      Order ID  Product  Quantity Ordered  Price Each  Order Date  \\\n",
      "1073  Order ID  Product  Quantity Ordered  Price Each  Order Date   \n",
      "\n",
      "      Purchase Address  \n",
      "1073  Purchase Address  \n",
      "\n",
      "DataFrame after Cleaning:\n",
      "      Order ID                     Product Quantity Ordered Price Each  \\\n",
      "0       141234                      iPhone                1        700   \n",
      "1       141235    Lightning Charging Cable                1      14.95   \n",
      "2       141236            Wired Headphones                2      11.99   \n",
      "3       141237            27in FHD Monitor                1     149.99   \n",
      "4       141238            Wired Headphones                1      11.99   \n",
      "...        ...                         ...              ...        ...   \n",
      "88992   319460  Bose SoundSport Headphones                1  99.989998   \n",
      "88993   319468            Wired Headphones                1      11.99   \n",
      "88994   319579    Lightning Charging Cable                1      14.95   \n",
      "88995   319619      AAA Batteries (4-pack)                1       2.99   \n",
      "88996   319636      34in Ultrawide Monitor                1  379.98999   \n",
      "\n",
      "                        Order Date                       Purchase Address  \n",
      "0                   01/22/19 21:25        944 Walnut St, Boston, MA 02215  \n",
      "1                   01/28/19 14:15       185 Maple St, Portland, OR 97035  \n",
      "2                   01/17/19 13:33  538 Adams St, San Francisco, CA 94016  \n",
      "3                   01/05/19 20:33     738 10th St, Los Angeles, CA 90001  \n",
      "4                   01/25/19 11:59          387 10th St, Austin, TX 73301  \n",
      "...                            ...                                    ...  \n",
      "88992  2019-12-19 19:31:00.0000000           50 Lake St, Boston, MA 02215  \n",
      "88993  2019-12-19 10:35:00.0000000   245 Wilson St, Los Angeles, CA 90001  \n",
      "88994  2019-12-19 19:28:00.0000000      285 4th St, Los Angeles, CA 90001  \n",
      "88995  2019-12-19 21:09:00.0000000      908 2nd St, Los Angeles, CA 90001  \n",
      "88996  2019-12-19 18:21:00.0000000           829 6th St, Boston, MA 02215  \n",
      "\n",
      "[88478 rows x 6 columns]\n"
     ]
    }
   ],
   "source": [
    "#removing the row with column names as data entries\n",
    "rows_with_column_names = sales_2019_df[sales_2019_df.isin(sales_2019_df.columns).any(axis=1)]\n",
    "\n",
    "# Remove rows where column names appear as data entries\n",
    "sales_2019_df = sales_2019_df[~sales_2019_df.isin(sales_2019_df.columns).any(axis=1)]\n",
    "\n",
    "# Display the rows with column names and the cleaned DataFrame\n",
    "print(\"Rows with Column Names:\")\n",
    "print(rows_with_column_names)\n",
    "\n",
    "print(\"\\nDataFrame after Cleaning:\")\n",
    "print(sales_2019_df)"
   ]
  },
  {
   "cell_type": "code",
   "execution_count": 57,
   "metadata": {},
   "outputs": [
    {
     "name": "stdout",
     "output_type": "stream",
     "text": [
      "Order ID             object\n",
      "Product              object\n",
      "Quantity Ordered    float64\n",
      "Price Each          float64\n",
      "Order Date           object\n",
      "Purchase Address     object\n",
      "dtype: object\n"
     ]
    }
   ],
   "source": [
    "#changing numerical columns to floats to make them to numerical\n",
    "numerical_columns = ['Quantity Ordered', 'Price Each']  # Replace with your actual column names\n",
    "\n",
    "# Convert numerical columns to float\n",
    "sales_2019_df[numerical_columns] = sales_2019_df[numerical_columns].astype(float)\n",
    "\n",
    "# Check the data types after the conversion\n",
    "print(sales_2019_df.dtypes)"
   ]
  }
 ],
 "metadata": {
  "kernelspec": {
   "display_name": "Python 3",
   "language": "python",
   "name": "python3"
  },
  "language_info": {
   "codemirror_mode": {
    "name": "ipython",
    "version": 3
   },
   "file_extension": ".py",
   "mimetype": "text/x-python",
   "name": "python",
   "nbconvert_exporter": "python",
   "pygments_lexer": "ipython3",
   "version": "3.11.4"
  }
 },
 "nbformat": 4,
 "nbformat_minor": 2
}
